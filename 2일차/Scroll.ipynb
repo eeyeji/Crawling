{
 "cells": [
  {
   "cell_type": "code",
   "execution_count": 24,
   "metadata": {},
   "outputs": [
    {
     "name": "stdout",
     "output_type": "stream",
     "text": [
      "Requirement already satisfied: webdriver_manager in c:\\users\\user\\anaconda3\\lib\\site-packages (3.8.3)\n",
      "Requirement already satisfied: requests in c:\\users\\user\\anaconda3\\lib\\site-packages (from webdriver_manager) (2.27.1)\n",
      "Requirement already satisfied: tqdm in c:\\users\\user\\anaconda3\\lib\\site-packages (from webdriver_manager) (4.64.0)\n",
      "Requirement already satisfied: python-dotenv in c:\\users\\user\\anaconda3\\lib\\site-packages (from webdriver_manager) (0.21.0)\n",
      "Requirement already satisfied: charset-normalizer~=2.0.0 in c:\\users\\user\\anaconda3\\lib\\site-packages (from requests->webdriver_manager) (2.0.4)\n",
      "Requirement already satisfied: certifi>=2017.4.17 in c:\\users\\user\\anaconda3\\lib\\site-packages (from requests->webdriver_manager) (2021.10.8)\n",
      "Requirement already satisfied: urllib3<1.27,>=1.21.1 in c:\\users\\user\\anaconda3\\lib\\site-packages (from requests->webdriver_manager) (1.26.9)\n",
      "Requirement already satisfied: idna<4,>=2.5 in c:\\users\\user\\anaconda3\\lib\\site-packages (from requests->webdriver_manager) (3.3)\n",
      "Requirement already satisfied: colorama in c:\\users\\user\\anaconda3\\lib\\site-packages (from tqdm->webdriver_manager) (0.4.4)\n",
      "티타임즈가 ‘찐팬 커뮤니티 강좌’ 출시했습니다~\n",
      "아마존의 꿩먹고 알먹는 플라이휠 수익모델\n",
      "다음은 어느 스타트업 차례일까?\n",
      "“왜 배신이냐 소리도 들었다. 그러나 타다는~”\n",
      "Z세대와 일하는 법? ‘뿅뿅 지구오락실’이 답이다.\n",
      "메타의 위기는 정체성이라는 본질적 위기\n",
      "커머스, 사스, 광고 모두 잘하는 드문 주식\n",
      "'당근, 번개, 중나' 중고 3총사의 몸값은 왜 이렇게 차이날까\n",
      "월급, 법카, 차량 모두 거절한 ‘이상한’ 창업자\n",
      "“우영우가 정말 고마웠다. 그러나~ ”\n",
      "행시 출신의 실리콘밸리 PM 도전기\n",
      "빅테크 기업의 PM이 가지고 있는 7가지 공통점\n",
      "취업‧이직때 대박날 스타트업 고르는 법\n",
      "손정의 회장의 ‘AI + 군(群)’ 전략은 왜 실패하고 있나?\n",
      "한국 문과 출신이 실리콘밸리에서 일하는 법\n",
      "글로벌 반도체 먹이사슬 완전정복\n",
      "블랙록 회장은 왜 ESG가 ‘자본을 위한 길’이라고 했을까?\n",
      "쏘카는 우버 모델? 아니면 렌터카 모델?\n",
      "“테슬라를 끊으면 부들부들 금단증상이 생긴다”\n",
      "“달력나이에서 20살 빼라. 인생 N모작이다.”\n",
      "\"머스크와 테슬라 탈탙 털어드립니다\"\n",
      "“정수기처럼 AI의사 렌트하는 시대 온다”\n",
      "\"감동적인 직원경험이 감동적인 고객경험 만든다\"\n",
      "“지금도 초당 6개씩 원자폭탄이 터지고 있다.”\n",
      "“아직도 돈쓰는 마케팅 하시나요? 답답하네요~”\n",
      "NFT 블루칩 '두들스'가 투자자들 줄세우는 방법\n",
      "결혼은 망하는 바람에 짬나서, 신혼은 따로 창업유학\n",
      "'싸이' 앞세운 땡겨요! 배민, 요기요, 쿠팡이츠에 위협될까?\n",
      "학습부진 AI를 우등생 AI로 만들어주는 합성데이터\n",
      "버튼 누르면 비품 채워지는 직원경험, 이런 게 DT다\n",
      "조회수 6.2천회\n",
      "조회수 8.9천회\n",
      "조회수 1.9만회\n",
      "조회수 6.6천회\n",
      "조회수 4천회\n",
      "조회수 2.7만회\n",
      "조회수 6.5천회\n",
      "조회수 1.8만회\n",
      "조회수 8천회\n",
      "조회수 4.1천회\n",
      "조회수 5.8천회\n",
      "조회수 1.8만회\n",
      "조회수 5천회\n",
      "조회수 4.4만회\n",
      "조회수 7.2천회\n",
      "조회수 4.1만회\n",
      "조회수 6.3천회\n",
      "조회수 6.8천회\n",
      "조회수 3만회\n",
      "조회수 6.5천회\n",
      "조회수 1.7만회\n",
      "조회수 7.1천회\n",
      "조회수 1.4만회\n",
      "조회수 4.7만회\n",
      "조회수 8.2천회\n",
      "조회수 9.3천회\n",
      "조회수 7.8천회\n",
      "조회수 1.5만회\n",
      "조회수 8.6천회\n",
      "조회수 5.6천회\n"
     ]
    }
   ],
   "source": [
    "#유튜브: https://www.youtube.com/user/koreanenglishman\n",
    "!pip install webdriver_manager\n",
    "\n",
    "from tqdm import tqdm_notebook as tqdm\n",
    "\n",
    "from selenium import webdriver\n",
    "from webdriver_manager.chrome import ChromeDriverManager\n",
    "import pandas as pd\n",
    "import time\n",
    "from selenium.webdriver.common.keys import Keys\n",
    "\n",
    "driver = webdriver.Chrome(ChromeDriverManager().install())\n",
    "\n",
    "#유튜브: 티타임즈tv\n",
    "driver.get(\"https://www.youtube.com/c/%ED%8B%B0%ED%83%80%EC%9E%84%EC%A6%88TV/videos\")\n",
    "driver.maximize_window()\n",
    "\n",
    "#제목: #video-title -> css_selector가 공유되서 사용되고 있음\n",
    "name = driver.find_elements_by_css_selector('#video-title')\n",
    "for i in name:\n",
    "    print(i.text)\n",
    " \n",
    "#조회수: style-scope.ytd-grid-video-renderer\n",
    "view = driver.find_elements_by_css_selector('#metadata-line > span:nth-child(1)')\n",
    "for j in view:\n",
    "    print(j.text)\n",
    "\n",
    "time.sleep(2)\n",
    "#스크롤링\n",
    "body = driver.find_element_by_css_selector('body')\n",
    "body.send_keys(Keys.END)"
   ]
  },
  {
   "cell_type": "code",
   "execution_count": null,
   "metadata": {},
   "outputs": [],
   "source": []
  },
  {
   "cell_type": "code",
   "execution_count": null,
   "metadata": {},
   "outputs": [],
   "source": []
  },
  {
   "cell_type": "code",
   "execution_count": null,
   "metadata": {},
   "outputs": [],
   "source": []
  },
  {
   "cell_type": "code",
   "execution_count": null,
   "metadata": {},
   "outputs": [],
   "source": []
  },
  {
   "cell_type": "code",
   "execution_count": null,
   "metadata": {},
   "outputs": [],
   "source": []
  }
 ],
 "metadata": {
  "kernelspec": {
   "display_name": "Python 3.9.12 ('base')",
   "language": "python",
   "name": "python3"
  },
  "language_info": {
   "codemirror_mode": {
    "name": "ipython",
    "version": 3
   },
   "file_extension": ".py",
   "mimetype": "text/x-python",
   "name": "python",
   "nbconvert_exporter": "python",
   "pygments_lexer": "ipython3",
   "version": "3.9.12"
  },
  "orig_nbformat": 4,
  "vscode": {
   "interpreter": {
    "hash": "a077222d77dfe082b8f1dd562ad70e458ac2ab76993a0b248ab0476e32e9e8dd"
   }
  }
 },
 "nbformat": 4,
 "nbformat_minor": 2
}
