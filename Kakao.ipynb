{
 "cells": [
  {
   "cell_type": "code",
   "execution_count": 51,
   "metadata": {},
   "outputs": [
    {
     "name": "stdout",
     "output_type": "stream",
     "text": [
      "Requirement already satisfied: webdriver_manager in c:\\users\\user\\anaconda3\\lib\\site-packages (3.8.3)\n",
      "Requirement already satisfied: python-dotenv in c:\\users\\user\\anaconda3\\lib\\site-packages (from webdriver_manager) (0.21.0)\n",
      "Requirement already satisfied: tqdm in c:\\users\\user\\anaconda3\\lib\\site-packages (from webdriver_manager) (4.64.0)\n",
      "Requirement already satisfied: requests in c:\\users\\user\\anaconda3\\lib\\site-packages (from webdriver_manager) (2.27.1)\n",
      "Requirement already satisfied: charset-normalizer~=2.0.0 in c:\\users\\user\\anaconda3\\lib\\site-packages (from requests->webdriver_manager) (2.0.4)\n",
      "Requirement already satisfied: urllib3<1.27,>=1.21.1 in c:\\users\\user\\anaconda3\\lib\\site-packages (from requests->webdriver_manager) (1.26.9)\n",
      "Requirement already satisfied: certifi>=2017.4.17 in c:\\users\\user\\anaconda3\\lib\\site-packages (from requests->webdriver_manager) (2021.10.8)\n",
      "Requirement already satisfied: idna<4,>=2.5 in c:\\users\\user\\anaconda3\\lib\\site-packages (from requests->webdriver_manager) (3.3)\n",
      "Requirement already satisfied: colorama in c:\\users\\user\\anaconda3\\lib\\site-packages (from tqdm->webdriver_manager) (0.4.4)\n"
     ]
    },
    {
     "data": {
      "text/html": [
       "<div>\n",
       "<style scoped>\n",
       "    .dataframe tbody tr th:only-of-type {\n",
       "        vertical-align: middle;\n",
       "    }\n",
       "\n",
       "    .dataframe tbody tr th {\n",
       "        vertical-align: top;\n",
       "    }\n",
       "\n",
       "    .dataframe thead th {\n",
       "        text-align: right;\n",
       "    }\n",
       "</style>\n",
       "<table border=\"1\" class=\"dataframe\">\n",
       "  <thead>\n",
       "    <tr style=\"text-align: right;\">\n",
       "      <th></th>\n",
       "      <th>장소</th>\n",
       "      <th>별점</th>\n",
       "    </tr>\n",
       "  </thead>\n",
       "  <tbody>\n",
       "  </tbody>\n",
       "</table>\n",
       "</div>"
      ],
      "text/plain": [
       "Empty DataFrame\n",
       "Columns: [장소, 별점]\n",
       "Index: []"
      ]
     },
     "execution_count": 51,
     "metadata": {},
     "output_type": "execute_result"
    }
   ],
   "source": [
    "!pip install webdriver_manager\n",
    "\n",
    "from tqdm import tqdm_notebook as tqdm\n",
    "\n",
    "from selenium import webdriver\n",
    "from webdriver_manager.chrome import ChromeDriverManager\n",
    "import pandas as pd\n",
    "import time\n",
    "\n",
    "from bs4 import BeautifulSoup as bs\n",
    "\n",
    "#스크롤링\n",
    "from selenium.webdriver.common.keys import Keys\n",
    "\n",
    "driver = webdriver.Chrome(ChromeDriverManager().install())\n",
    "\n",
    "#유튜브: 티타임즈tv\n",
    "driver.get(\"https://map.kakao.com/\")\n",
    "driver.maximize_window()\n",
    "time.sleep(1)\n",
    "#파란부분 지우기\n",
    "#element / elements 꼭 확인해주기!!\n",
    "delete_blue = driver.find_element_by_xpath('/html/body/div[10]/div/div/div/span')\n",
    "delete_blue.click()\n",
    "\n",
    "#검색\n",
    "search = driver.find_element_by_css_selector('#search\\.keyword\\.query')\n",
    "search.click()\n",
    "\n",
    "search.send_keys('맛집')\n",
    "search.send_keys(Keys.ENTER)\n",
    "time.sleep(1)\n",
    "\n",
    "#더보기 클릭\n",
    "more = driver.find_element_by_css_selector('#info\\.search\\.place\\.more')\n",
    "more.click()\n",
    "time.sleep(1)\n",
    "\n",
    "place_list=[]\n",
    "star_list=[]\n",
    "\n",
    "#페이지 넘기기: no1~no4반복, 포맷팅 사용\n",
    "##info\\.search\\.page\\.no1\n",
    "##info\\.search\\.page\\.no4\n",
    "while True:\n",
    "    try: \n",
    "        num_list=[1,2,3,4,5]\n",
    "        for i in num_list:     \n",
    "        \n",
    "\n",
    "            page = driver.find_element_by_css_selector(f'#info\\.search\\.page\\.no{i}')\n",
    "            page.click()\n",
    "\n",
    "            place = driver.find_elements_by_css_selector('strong.tit_name>a.link_name')\n",
    "            place_list.append(place.text)\n",
    "            star = driver.find_elements_by_css_selector('span.score > em')\n",
    "            star_list.append(star.text)\n",
    "            time.sleep(2)\n",
    "        \n",
    "        #다음으로 넘어가기\n",
    "        next = driver.find_element_by_css_selector('#info\\.search\\.page\\.next')\n",
    "        next.click()\n",
    "        time.sleep(1)\n",
    "    except:\n",
    "        break\n",
    "\n",
    "data = {'장소' : place_list, '별점' : star_list}\n",
    "kakaomap = pd.DataFrame(data)\n",
    "kakaomap\n",
    "    "
   ]
  },
  {
   "cell_type": "code",
   "execution_count": null,
   "metadata": {},
   "outputs": [],
   "source": [
    "#장소\n",
    "place = driver.find_elements_by_css_selector('strong.tit_name>a.link_name')\n",
    "for q in place:\n",
    "    print(q.text)\n",
    "\n",
    "#별점\n",
    "star = driver.find_elements_by_css_selector('span.score > em')\n",
    "for p in star:\n",
    "    print(p.text)"
   ]
  }
 ],
 "metadata": {
  "kernelspec": {
   "display_name": "Python 3.9.12 ('base')",
   "language": "python",
   "name": "python3"
  },
  "language_info": {
   "codemirror_mode": {
    "name": "ipython",
    "version": 3
   },
   "file_extension": ".py",
   "mimetype": "text/x-python",
   "name": "python",
   "nbconvert_exporter": "python",
   "pygments_lexer": "ipython3",
   "version": "3.9.12"
  },
  "orig_nbformat": 4,
  "vscode": {
   "interpreter": {
    "hash": "a077222d77dfe082b8f1dd562ad70e458ac2ab76993a0b248ab0476e32e9e8dd"
   }
  }
 },
 "nbformat": 4,
 "nbformat_minor": 2
}
