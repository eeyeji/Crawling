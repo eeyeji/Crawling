{
 "cells": [
  {
   "cell_type": "code",
   "execution_count": null,
   "metadata": {},
   "outputs": [],
   "source": [
    "!pip install webdriver_manager\n",
    "from tqdm import tqdm_notebook as tqdm\n",
    "\n",
    "from selenium import webdriver\n",
    "from webdriver_manager.chrome import ChromeDriverManager\n",
    "import pandas as pd\n",
    "import time\n",
    "from bs4 import BeautifulSoup as bs\n",
    "from selenium.webdriver.common.keys import Keys\n",
    "\n",
    "driver = webdriver.Chrome(ChromeDriverManager().install())\n",
    "\n",
    "#sbs뉴스-최신뉴스\n",
    "driver.get(\"https://news.sbs.co.kr/news/newsflash.do?plink=NEW&cooper=SBSNEWSMAIN\")\n",
    "driver.maximize_window()\n",
    "time.sleep(1)\n",
    "\n",
    "#객체화\n",
    "soup = bs(driver.page_source, 'html.parser')\n"
   ]
  },
  {
   "cell_type": "markdown",
   "metadata": {},
   "source": [
    "#### selet로 url추출"
   ]
  },
  {
   "cell_type": "code",
   "execution_count": 14,
   "metadata": {},
   "outputs": [
    {
     "name": "stdout",
     "output_type": "stream",
     "text": [
      "https://news.sbs.co.kr//news/endPage.do?news_id=N1006896400\n",
      "https://news.sbs.co.kr//news/endPage.do?news_id=N1006896846\n",
      "https://news.sbs.co.kr//news/endPage.do?news_id=N1006896903\n",
      "https://news.sbs.co.kr//news/endPage.do?news_id=N1006896850\n",
      "https://news.sbs.co.kr//news/endPage.do?news_id=N1006896789\n",
      "https://news.sbs.co.kr//news/endPage.do?news_id=N1006896739\n",
      "https://news.sbs.co.kr//news/endPage.do?news_id=N1006896742\n",
      "https://news.sbs.co.kr//news/endPage.do?news_id=N1006896741\n",
      "https://news.sbs.co.kr//news/endPage.do?news_id=N1006896740\n",
      "https://news.sbs.co.kr//news/endPage.do?news_id=N1006896738\n"
     ]
    }
   ],
   "source": [
    "# url가져오기-href\n",
    "# 기본구조: <a href = \"참조 url\" class = 'nnn'> _____</a>\n",
    "search = soup.select('a.news')\n",
    "\n",
    "#for문으로 href추출\n",
    "for i in search:\n",
    "    #href를 실제 사용할 수 있는 url로 만들어주는 방법: \n",
    "    print('https://news.sbs.co.kr/' + i['href'])\n",
    "\n",
    "    #print(i.text)\n",
    "    #-> 뉴스 제목 나옴"
   ]
  },
  {
   "cell_type": "markdown",
   "metadata": {},
   "source": [
    "#### find로 url추출"
   ]
  },
  {
   "cell_type": "code",
   "execution_count": 15,
   "metadata": {},
   "outputs": [
    {
     "name": "stdout",
     "output_type": "stream",
     "text": [
      "https://news.sbs.co.kr//news/endPage.do?news_id=N1006896400\n",
      "https://news.sbs.co.kr//news/endPage.do?news_id=N1006896846\n",
      "https://news.sbs.co.kr//news/endPage.do?news_id=N1006896903\n",
      "https://news.sbs.co.kr//news/endPage.do?news_id=N1006896850\n",
      "https://news.sbs.co.kr//news/endPage.do?news_id=N1006896789\n",
      "https://news.sbs.co.kr//news/endPage.do?news_id=N1006896739\n",
      "https://news.sbs.co.kr//news/endPage.do?news_id=N1006896742\n",
      "https://news.sbs.co.kr//news/endPage.do?news_id=N1006896741\n",
      "https://news.sbs.co.kr//news/endPage.do?news_id=N1006896740\n",
      "https://news.sbs.co.kr//news/endPage.do?news_id=N1006896738\n"
     ]
    }
   ],
   "source": [
    "search2 = soup.find_all('a', class_='news')\n",
    "#for문으로 href추출\n",
    "for i in search:\n",
    "    #href를 실제 사용할 수 있는 url로 만들어주는 방법: \n",
    "    print('https://news.sbs.co.kr/' + i['href'])\n",
    "\n",
    "    #print(i.text)\n",
    "    #-> 뉴스 제목 나옴"
   ]
  },
  {
   "cell_type": "code",
   "execution_count": 18,
   "metadata": {},
   "outputs": [
    {
     "name": "stderr",
     "output_type": "stream",
     "text": [
      "C:\\Users\\user\\AppData\\Local\\Temp\\ipykernel_10700\\1982403352.py:3: TqdmDeprecationWarning: This function will be removed in tqdm==5.0.0\n",
      "Please use `tqdm.notebook.tqdm` instead of `tqdm.tqdm_notebook`\n",
      "  for i in tqdm(range(4, 13)):\n"
     ]
    },
    {
     "data": {
      "application/vnd.jupyter.widget-view+json": {
       "model_id": "d6d17be80e0a4415b071f194ba718bf4",
       "version_major": 2,
       "version_minor": 0
      },
      "text/plain": [
       "  0%|          | 0/9 [00:00<?, ?it/s]"
      ]
     },
     "metadata": {},
     "output_type": "display_data"
    },
    {
     "data": {
      "application/vnd.jupyter.widget-view+json": {
       "model_id": "7183dab57bf64cef8488131b7b3b08f5",
       "version_major": 2,
       "version_minor": 0
      },
      "text/plain": [
       "  0%|          | 0/9 [00:00<?, ?it/s]"
      ]
     },
     "metadata": {},
     "output_type": "display_data"
    },
    {
     "data": {
      "application/vnd.jupyter.widget-view+json": {
       "model_id": "f92e0e8bc55244848ec88a3bed3689be",
       "version_major": 2,
       "version_minor": 0
      },
      "text/plain": [
       "  0%|          | 0/9 [00:00<?, ?it/s]"
      ]
     },
     "metadata": {},
     "output_type": "display_data"
    }
   ],
   "source": [
    "while True:\n",
    "    try: \n",
    "        for i in tqdm(range(4, 13)):    \n",
    "\n",
    "            page = driver.find_element_by_css_selector(f'#container > div > div.md_paging_w > div > a:nth-child({i})')\n",
    "            page.click()\n",
    "        \n",
    "        #다음으로 넘어가기\n",
    "        next = driver.find_element_by_css_selector('#container > div > div.md_paging_w > div > a.fncpn.next')\n",
    "        next.click()\n",
    "        time.sleep(1)\n",
    "    except:\n",
    "        pass"
   ]
  },
  {
   "cell_type": "code",
   "execution_count": null,
   "metadata": {},
   "outputs": [],
   "source": []
  }
 ],
 "metadata": {
  "kernelspec": {
   "display_name": "Python 3.9.12 ('base')",
   "language": "python",
   "name": "python3"
  },
  "language_info": {
   "codemirror_mode": {
    "name": "ipython",
    "version": 3
   },
   "file_extension": ".py",
   "mimetype": "text/x-python",
   "name": "python",
   "nbconvert_exporter": "python",
   "pygments_lexer": "ipython3",
   "version": "3.9.12"
  },
  "orig_nbformat": 4,
  "vscode": {
   "interpreter": {
    "hash": "a077222d77dfe082b8f1dd562ad70e458ac2ab76993a0b248ab0476e32e9e8dd"
   }
  }
 },
 "nbformat": 4,
 "nbformat_minor": 2
}
